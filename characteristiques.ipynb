{
 "cells": [
  {
   "cell_type": "code",
   "execution_count": 1,
   "id": "db84fd06-e8a3-4e58-846b-da222a985c2f",
   "metadata": {},
   "outputs": [],
   "source": [
    "%matplotlib widget\n",
    "import numpy as np \n",
    "import ht\n",
    "import matplotlib.pyplot as plt\n",
    "import CoolProp as cp\n",
    "from IPython.display import Latex"
   ]
  },
  {
   "cell_type": "code",
   "execution_count": 23,
   "id": "711bf310-7e50-4208-8797-4c0ba5d4462f",
   "metadata": {},
   "outputs": [],
   "source": [
    "Pr_w = cp.CoolProp.PropsSI('PRANDTL', 'T',300, 'P', 101.3e3, 'Water')\n",
    "mu_w = cp.CoolProp.PropsSI('V', 'T',300, 'P', 101.3e3, 'Water')\n",
    "rho_w = cp.CoolProp.PropsSI('D', 'T',300, 'P', 101.3e3, 'Water')\n",
    "k_w = cp.CoolProp.PropsSI('CONDUCTIVITY', 'T',300, 'P', 101.3e3, 'Water')\n",
    "\n",
    "nu_w = mu_w/rho_w\n",
    "\n",
    "L = 1\n",
    "U = 1\n",
    "D= 1"
   ]
  },
  {
   "cell_type": "code",
   "execution_count": 24,
   "id": "a9795026-5b5d-4740-b584-6a6897be5bf1",
   "metadata": {},
   "outputs": [
    {
     "data": {
      "text/latex": [
       "$Re=$1167280"
      ],
      "text/plain": [
       "<IPython.core.display.Latex object>"
      ]
     },
     "metadata": {},
     "output_type": "display_data"
    },
    {
     "data": {
      "text/latex": [
       "Sillage  $ h_c=$5496.2"
      ],
      "text/plain": [
       "<IPython.core.display.Latex object>"
      ]
     },
     "metadata": {},
     "output_type": "display_data"
    },
    {
     "data": {
      "text/latex": [
       "Parois $h_p=$10761.3"
      ],
      "text/plain": [
       "<IPython.core.display.Latex object>"
      ]
     },
     "metadata": {},
     "output_type": "display_data"
    }
   ],
   "source": [
    "Re_c = D * U / nu_w\n",
    "Re_p = L * U / nu_w\n",
    "Nusselt_c = ht.conv_external.Nu_external_cylinder(Re_c,Pr_w)\n",
    "h_c = Nusselt_c/k_w*L\n",
    "\n",
    "display(Latex(f'$Re=${Re_c:.0f}'))\n",
    "\n",
    "display(Latex(f'Sillage  $ h_c=${h_c:.1f}'))\n",
    "\n",
    "Nusselt_p = ht.conv_external.Nu_external_horizontal_plate(Re_p,Pr_w)\n",
    "h_p = Nusselt_p/k_w*L\n",
    "display(Latex(f'Parois $h_p=${h_p:.1f}'))"
   ]
  },
  {
   "cell_type": "code",
   "execution_count": 25,
   "id": "be1e059d-7773-4412-899f-c1574b690a56",
   "metadata": {},
   "outputs": [
    {
     "data": {
      "text/plain": [
       "0.5812501715144934"
      ]
     },
     "execution_count": 25,
     "metadata": {},
     "output_type": "execute_result"
    }
   ],
   "source": [
    "ht.conv_external.Nu_external_cylinder(2,0.7)"
   ]
  },
  {
   "cell_type": "code",
   "execution_count": 26,
   "id": "19273e4b-1415-4808-9509-63520892b58d",
   "metadata": {},
   "outputs": [
    {
     "data": {
      "text/plain": [
       "(1167280.4591632166, 3349.9221684760323)"
      ]
     },
     "execution_count": 26,
     "metadata": {},
     "output_type": "execute_result"
    }
   ],
   "source": [
    "Re_c, Nusselt_c"
   ]
  },
  {
   "cell_type": "code",
   "execution_count": 28,
   "id": "5e13c2d4-d870-4efa-81bd-caeb88514e2b",
   "metadata": {},
   "outputs": [
    {
     "data": {
      "text/plain": [
       "\u001b[0;31mSignature:\u001b[0m\n",
       "\u001b[0mht\u001b[0m\u001b[0;34m.\u001b[0m\u001b[0mNu_external_horizontal_plate_methods\u001b[0m\u001b[0;34m(\u001b[0m\u001b[0;34m\u001b[0m\n",
       "\u001b[0;34m\u001b[0m    \u001b[0mRe\u001b[0m\u001b[0;34m,\u001b[0m\u001b[0;34m\u001b[0m\n",
       "\u001b[0;34m\u001b[0m    \u001b[0mPr\u001b[0m\u001b[0;34m,\u001b[0m\u001b[0;34m\u001b[0m\n",
       "\u001b[0;34m\u001b[0m    \u001b[0mL\u001b[0m\u001b[0;34m=\u001b[0m\u001b[0;32mNone\u001b[0m\u001b[0;34m,\u001b[0m\u001b[0;34m\u001b[0m\n",
       "\u001b[0;34m\u001b[0m    \u001b[0mx\u001b[0m\u001b[0;34m=\u001b[0m\u001b[0;32mNone\u001b[0m\u001b[0;34m,\u001b[0m\u001b[0;34m\u001b[0m\n",
       "\u001b[0;34m\u001b[0m    \u001b[0mcheck_ranges\u001b[0m\u001b[0;34m=\u001b[0m\u001b[0;32mTrue\u001b[0m\u001b[0;34m,\u001b[0m\u001b[0;34m\u001b[0m\n",
       "\u001b[0;34m\u001b[0m\u001b[0;34m)\u001b[0m\u001b[0;34m\u001b[0m\u001b[0;34m\u001b[0m\u001b[0m\n",
       "\u001b[0;31mDocstring:\u001b[0m\n",
       "Returns a list of correlation names for calculating Nusselt number for\n",
       "forced convection across a horizontal plate, supporting both laminar\n",
       "and turbulent regimes.\n",
       "\n",
       "Parameters\n",
       "----------\n",
       "Re : float\n",
       "    Reynolds number with respect to bulk properties and plate length, [-]\n",
       "Pr : float\n",
       "    Prandtl number with respect to bulk properties, [-]\n",
       "L : float, optional\n",
       "    Length of horizontal plate, [m]\n",
       "x : float, optional\n",
       "    Length of horizontal plate for specific calculation distance, [m]\n",
       "check_ranges : bool, optional\n",
       "    Whether or not to return only correlations suitable for the provided\n",
       "    data, [-]\n",
       "\n",
       "Returns\n",
       "-------\n",
       "methods : list[str]\n",
       "    List of methods which can be used to calculate `Nu` with the given\n",
       "    inputs\n",
       "\n",
       "Examples\n",
       "--------\n",
       ">>> Nu_external_horizontal_plate_methods(Re=1e7, Pr=.7)[0]\n",
       "'Schlichting'\n",
       "\u001b[0;31mFile:\u001b[0m      ~/.local/lib/python3.10/site-packages/ht/conv_external.py\n",
       "\u001b[0;31mType:\u001b[0m      function"
      ]
     },
     "metadata": {},
     "output_type": "display_data"
    }
   ],
   "source": [
    "ht.Nu_external_horizontal_plate_methods?"
   ]
  },
  {
   "cell_type": "code",
   "execution_count": null,
   "id": "d45b6cea-0710-496e-9111-4416ed2d7d86",
   "metadata": {},
   "outputs": [],
   "source": []
  }
 ],
 "metadata": {
  "kernelspec": {
   "display_name": "Python 3 (ipykernel)",
   "language": "python",
   "name": "python3"
  },
  "language_info": {
   "codemirror_mode": {
    "name": "ipython",
    "version": 3
   },
   "file_extension": ".py",
   "mimetype": "text/x-python",
   "name": "python",
   "nbconvert_exporter": "python",
   "pygments_lexer": "ipython3",
   "version": "3.10.9"
  }
 },
 "nbformat": 4,
 "nbformat_minor": 5
}
